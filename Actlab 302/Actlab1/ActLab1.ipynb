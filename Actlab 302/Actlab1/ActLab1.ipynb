{
  "nbformat": 4,
  "nbformat_minor": 0,
  "metadata": {
    "colab": {
      "provenance": [],
      "authorship_tag": "ABX9TyNZhjOwATc1C8+xae9VpvEh",
      "include_colab_link": true
    },
    "kernelspec": {
      "name": "python3",
      "display_name": "Python 3"
    },
    "language_info": {
      "name": "python"
    }
  },
  "cells": [
    {
      "cell_type": "markdown",
      "metadata": {
        "id": "view-in-github",
        "colab_type": "text"
      },
      "source": [
        "<a href=\"https://colab.research.google.com/github/JimenaLG302/Programacion-basica-302-I/blob/main/Actlab%20302/Actlab1/ActLab1.ipynb\" target=\"_parent\"><img src=\"https://colab.research.google.com/assets/colab-badge.svg\" alt=\"Open In Colab\"/></a>"
      ]
    },
    {
      "cell_type": "markdown",
      "source": [
        "Actividad de Laboratorio 1 Impresion de Mensajes"
      ],
      "metadata": {
        "id": "TDYBOf3Bxi3U"
      }
    },
    {
      "cell_type": "markdown",
      "source": [
        "PB302_1.cpp Programa para Bienvenida"
      ],
      "metadata": {
        "id": "rWDMzBEsmLgG"
      }
    },
    {
      "cell_type": "code",
      "execution_count": null,
      "metadata": {
        "colab": {
          "base_uri": "https://localhost:8080/"
        },
        "id": "LG4j3Orvl51E",
        "outputId": "6289d4b7-15b6-4a87-a6c2-ce712595bc08"
      },
      "outputs": [
        {
          "output_type": "stream",
          "name": "stdout",
          "text": [
            "Overwriting PB302_1.cpp\n"
          ]
        }
      ],
      "source": [
        "%%writefile PB302_1.cpp\n",
        "//Programa para imprimir mensaje de bienvenda\n",
        "//Creado por Jimena Luna Gonzalez\n",
        "//Fecha: 15 de septiembre/2025\n",
        "//PB302_1.cpp\n",
        "#include <iostream>\n",
        "using namespace std;\n",
        "int main()\n",
        "{\n",
        "  cout<<\"Bienvenida Jimena a programacion basica en C++\\n\";\n",
        "  cout<<\"Gracias por programar en clase\";\n",
        "  return 0;\n",
        "}\n"
      ]
    },
    {
      "cell_type": "code",
      "source": [
        "!g++ PB302_1.cpp -o PB302_1\n",
        "!./PB302_1"
      ],
      "metadata": {
        "colab": {
          "base_uri": "https://localhost:8080/"
        },
        "id": "q5bACNDLpynz",
        "outputId": "4bfd8fd3-c288-4ac4-bb75-3dd43280984a"
      },
      "execution_count": null,
      "outputs": [
        {
          "output_type": "stream",
          "name": "stdout",
          "text": [
            "Bienvenida Jimena a programacion basica en C++\n",
            "Gracias por programar en clase"
          ]
        }
      ]
    },
    {
      "cell_type": "markdown",
      "source": [
        "PB302_2.cpp Programa oara imprimir datos personales"
      ],
      "metadata": {
        "id": "VS2UGSQrq19B"
      }
    },
    {
      "cell_type": "code",
      "source": [
        "%%writefile PB302_2.cpp\n",
        "//Programa para mostrar datos personales\n",
        "//Creado por Jimena Luna Gonzalez\n",
        "//Fecha:18/septiembre/2025\n",
        "//PB302_2.cpp\n",
        "#include <iostream>\n",
        "using namespace std;\n",
        "int main()\n",
        "{\n",
        "  char nombre[10]=\"Jimena\";\n",
        "  char paterno[10]=\"Luna\";\n",
        "  char materno[10]=\"Gonzalez\";\n",
        "int edad=15;\n",
        "char direccion[60]=\"Colonia Luis Echeverria calle juan orozco\";\n",
        "char fechanac[11]=\"17/11/2009\";\n",
        "char ciudadnac[20]=\"Ciudad Juarez\";\n",
        "cout<<\"Tu nombre completo es:\\n\";\n",
        "cout<<nombre<<\"\\n\";\n",
        "cout<<paterno<<\"\\n\";\n",
        "cout<<materno<<\"\\n\";\n",
        "cout<<edad<<\"\\n\";\n",
        "cout<<direccion<<\"\\n\";\n",
        "cout<<fechanac<<\"\\n\";\n",
        "cout<<ciudadnac<<\"\\n\";\n",
        "return 0;\n",
        "}\n"
      ],
      "metadata": {
        "colab": {
          "base_uri": "https://localhost:8080/"
        },
        "id": "wTUnqjUmrGXZ",
        "outputId": "ff4c5c57-9b00-48f0-8850-4c360678de29"
      },
      "execution_count": 9,
      "outputs": [
        {
          "output_type": "stream",
          "name": "stdout",
          "text": [
            "Overwriting PB302_2.cpp\n"
          ]
        }
      ]
    },
    {
      "cell_type": "code",
      "source": [
        "!g++ PB302_2.cpp -o PB302_2.exe\n",
        "!./PB302_2.exe"
      ],
      "metadata": {
        "colab": {
          "base_uri": "https://localhost:8080/"
        },
        "id": "yevaUBbuwjlV",
        "outputId": "7d137fd8-c4df-4c92-8c98-9dff422178e5"
      },
      "execution_count": 10,
      "outputs": [
        {
          "output_type": "stream",
          "name": "stdout",
          "text": [
            "Tu nombre completo es:\n",
            "Jimena\n",
            "Luna\n",
            "Gonzalez\n",
            "15\n",
            "Colonia Luis Echeverria calle juan orozco\n",
            "17/11/2009\n",
            "Ciudad Juarez\n"
          ]
        }
      ]
    }
  ]
}